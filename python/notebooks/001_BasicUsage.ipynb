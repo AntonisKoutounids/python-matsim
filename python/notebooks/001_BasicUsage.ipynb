{
 "cells": [
  {
   "cell_type": "code",
   "execution_count": 1,
   "metadata": {},
   "outputs": [],
   "source": [
    "import sys\n",
    "sys.path.append('..')\n",
    "import pythonmatsim.api.logging\n",
    "import pythonmatsim.api.jvmconfig as jc"
   ]
  },
  {
   "cell_type": "code",
   "execution_count": null,
   "metadata": {},
   "outputs": [
    {
     "name": "stderr",
     "output_type": "stream",
     "text": [
      "2019-05-08 14:17:44,183 - pythonmatsim.api.jvmconfig - DEBUG - generating classpath in /tmp/tmpk36ogktc\n"
     ]
    }
   ],
   "source": [
    "import jpype\n",
    "import jpype.imports as jimport\n",
    "\n",
    "jimport.registerDomain('org')\n",
    "\n",
    "try:\n",
    "    jc.build_and_start_jvm()\n",
    "except jpype.JavaException as exception:\n",
    "    print(exception.message())\n",
    "    print(exception.stacktrace())\n",
    "    "
   ]
  },
  {
   "cell_type": "code",
   "execution_count": 1,
   "metadata": {},
   "outputs": [
    {
     "ename": "ModuleNotFoundError",
     "evalue": "No module named 'pythonmatsim'",
     "output_type": "error",
     "traceback": [
      "\u001b[0;31m---------------------------------------------------------------------------\u001b[0m",
      "\u001b[0;31mModuleNotFoundError\u001b[0m                       Traceback (most recent call last)",
      "\u001b[0;32m<ipython-input-1-d6a875a755ac>\u001b[0m in \u001b[0;36m<module>\u001b[0;34m\u001b[0m\n\u001b[0;32m----> 1\u001b[0;31m \u001b[0;32mfrom\u001b[0m \u001b[0mpythonmatsim\u001b[0m\u001b[0;34m.\u001b[0m\u001b[0mapi\u001b[0m\u001b[0;34m.\u001b[0m\u001b[0mevents\u001b[0m \u001b[0;32mimport\u001b[0m \u001b[0;34m*\u001b[0m\u001b[0;34m\u001b[0m\u001b[0;34m\u001b[0m\u001b[0m\n\u001b[0m",
      "\u001b[0;31mModuleNotFoundError\u001b[0m: No module named 'pythonmatsim'"
     ]
    }
   ],
   "source": [
    "from pythonmatsim.api.events import *"
   ]
  },
  {
   "cell_type": "code",
   "execution_count": 4,
   "metadata": {},
   "outputs": [],
   "source": [
    "\n",
    "\n",
    "from org.matsim.core.scenario import ScenarioUtils\n",
    "from org.matsim.core.config import ConfigUtils\n",
    "from org.matsim.api.core.v01 import Id\n",
    "from org.matsim.core.controler import Controler\n",
    "from org.matsim.api.core.v01.events.handler import ActivityStartEventHandler, ActivityEndEventHandler\n",
    "# Note: this does not work when using JPackage approach\n",
    "from org.matsim.core.controler.OutputDirectoryHierarchy import OverwriteFileSetting\n"
   ]
  },
  {
   "cell_type": "code",
   "execution_count": 5,
   "metadata": {},
   "outputs": [],
   "source": [
    "from java.net import URL, URI\n",
    "from collections import defaultdict\n",
    "import time"
   ]
  },
  {
   "cell_type": "code",
   "execution_count": 6,
   "metadata": {},
   "outputs": [],
   "source": [
    "config_url = URI('https://raw.githubusercontent.com/matsim-org/matsim/master/examples/scenarios/siouxfalls-2014/config_default.xml').toURL()\n",
    "#config_url = URI('https://raw.githubusercontent.com/matsim-org/matsim/master/examples/scenarios/equil/config.xml').toURL()\n",
    "config = ConfigUtils.loadConfig(config_url)\n",
    "config.controler().setLastIteration(1)\n",
    "config.controler().setOverwriteFileSetting(OverwriteFileSetting.deleteDirectoryIfExists)\n"
   ]
  },
  {
   "cell_type": "code",
   "execution_count": 7,
   "metadata": {},
   "outputs": [
    {
     "data": {
      "text/plain": [
       "77.74684453010559"
      ]
     },
     "execution_count": 7,
     "metadata": {},
     "output_type": "execute_result"
    }
   ],
   "source": [
    "scenario = ScenarioUtils.loadScenario(config)\n",
    "controler = Controler(scenario)\n",
    "\n",
    "start = time.time()\n",
    "controler.run()\n",
    "duration_without_events = time.time() - start\n",
    "duration_without_events"
   ]
  },
  {
   "cell_type": "code",
   "execution_count": 8,
   "metadata": {},
   "outputs": [],
   "source": [
    "class TestListener(EventListener):\n",
    "    def __init__(self):\n",
    "        self.counts = defaultdict(int)\n",
    "\n",
    "    def reset(self, iteration):\n",
    "        self.iteration = iteration\n",
    "\n",
    "    @listen_to(EventType.actStart, EventType.actEnd)\n",
    "    def handleAct(self, event):\n",
    "        event.time\n",
    "        event.linkId\n",
    "        event.facilityId\n",
    "        event.persId\n",
    "        event.actType\n",
    "        self.counts[self.iteration] += 1"
   ]
  },
  {
   "cell_type": "code",
   "execution_count": 9,
   "metadata": {},
   "outputs": [],
   "source": [
    "listener = TestListener()"
   ]
  },
  {
   "cell_type": "code",
   "execution_count": 10,
   "metadata": {},
   "outputs": [
    {
     "name": "stderr",
     "output_type": "stream",
     "text": [
      "2019-05-07 13:10:51,410 - pythonmatsim.api.events - INFO - Constructing listener list\n",
      "2019-05-07 13:10:51,411 - pythonmatsim.api.events - INFO - Method handleAct listens to the following event types: {'actStart', 'actEnd'}\n"
     ]
    },
    {
     "data": {
      "text/plain": [
       "105.7708170413971"
      ]
     },
     "execution_count": 10,
     "metadata": {},
     "output_type": "execute_result"
    }
   ],
   "source": [
    "scenario = ScenarioUtils.loadScenario(config)\n",
    "controler = Controler(scenario)\n",
    "add_event_handler(\n",
    "    controler,\n",
    "    listener,\n",
    "    10)\n",
    "\n",
    "start = time.time()\n",
    "controler.run()\n",
    "duration_with_events = time.time() - start\n",
    "duration_with_events"
   ]
  },
  {
   "cell_type": "code",
   "execution_count": 11,
   "metadata": {},
   "outputs": [
    {
     "data": {
      "text/plain": [
       "defaultdict(int, {0: 168537, 1: 173537})"
      ]
     },
     "execution_count": 11,
     "metadata": {},
     "output_type": "execute_result"
    }
   ],
   "source": [
    "listener.counts\n"
   ]
  },
  {
   "cell_type": "code",
   "execution_count": 12,
   "metadata": {},
   "outputs": [],
   "source": [
    "class NaiveHandler:\n",
    "    ####################################################################\n",
    "    # Methods for the python side\n",
    "    ####################################################################\n",
    "    def __init__(self):\n",
    "        self.counts = defaultdict(int)\n",
    "\n",
    "    ####################################################################\n",
    "    # Methods for the java side\n",
    "    ####################################################################\n",
    "        \n",
    "    def handleEvent(self, event):\n",
    "        event.getTime()\n",
    "        event.getLinkId()\n",
    "        event.getFacilityId()\n",
    "        event.getPersonId()\n",
    "        event.getActType()\n",
    "        self.counts[self.iteration] += 1\n",
    "        \n",
    "    def reset(self, iteration):\n",
    "        self.iteration = iteration\n",
    "    \n",
    "    # JProxy does not provide default implementation for those methods:\n",
    "    # provide one, to avoid crashes.\n",
    "    # In true python way, the JProxy checks if a method exists only if actually\n",
    "    # invoked.\n",
    "    def hashCode(self):\n",
    "        return 42\n",
    "    \n",
    "    def toString(self):\n",
    "        return \"%s\" % self\n",
    "\n",
    "handler = NaiveHandler()\n",
    "handlerProxy = jp.JProxy((ActivityStartEventHandler, ActivityEndEventHandler), inst=handler)"
   ]
  },
  {
   "cell_type": "code",
   "execution_count": 13,
   "metadata": {},
   "outputs": [
    {
     "data": {
      "text/plain": [
       "114.32495188713074"
      ]
     },
     "execution_count": 13,
     "metadata": {},
     "output_type": "execute_result"
    }
   ],
   "source": [
    "controler = Controler(scenario)\n",
    "\n",
    "controler.getEvents().addHandler(handlerProxy)\n",
    "\n",
    "start = time.time()\n",
    "controler.run()\n",
    "duration_naive = time.time() - start\n",
    "duration_naive"
   ]
  },
  {
   "cell_type": "code",
   "execution_count": null,
   "metadata": {},
   "outputs": [],
   "source": []
  },
  {
   "cell_type": "code",
   "execution_count": null,
   "metadata": {},
   "outputs": [],
   "source": []
  }
 ],
 "metadata": {
  "kernelspec": {
   "display_name": "mykernel",
   "language": "python",
   "name": "mykernel"
  },
  "language_info": {
   "codemirror_mode": {
    "name": "ipython",
    "version": 3
   },
   "file_extension": ".py",
   "mimetype": "text/x-python",
   "name": "python",
   "nbconvert_exporter": "python",
   "pygments_lexer": "ipython3",
   "version": "3.6.8"
  }
 },
 "nbformat": 4,
 "nbformat_minor": 2
}
